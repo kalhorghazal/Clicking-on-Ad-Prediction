{
 "cells": [
  {
   "cell_type": "markdown",
   "metadata": {},
   "source": [
    "# Introduction to AI\n",
    "## Ghazal Kalhor"
   ]
  },
  {
   "cell_type": "markdown",
   "metadata": {},
   "source": [
    "<div style=\"text-align: justify; font-weight: bold;\">\n",
    "<i>Abstract</i> — In this computer assignment, we want to learn how to\n",
    "work with some of the most important libraries in Python such as\n",
    "NumPy, Pandas, and matplotlib that will help us in learning\n",
    "Artificial Intelligence; this is done by working with data frames\n",
    "and using them to predict a simple statistical model.  \n",
    "    \n",
    "<i>Keywords</i> — Python, NumPy, Pandas, Matplotlib, Artificial\n",
    "Intelligence\n",
    " </div>"
   ]
  },
  {
   "cell_type": "markdown",
   "metadata": {},
   "source": [
    "### Introduction\n",
    "<br/>\n",
    "<div style=\"text-align: justify;\"> \n",
    "The goal of this computer assignment is to design a simple statistical\n",
    "model in order to predict missing values of the target column; this is done by using samples that have a pre-determined target value.\n",
    "Some characteristics of users such as Age, Area Income, and Gender are given in this computer assignment, The input of our model will be one of these characteristics and the output is the target column which determines whether the user has clicked on the Ad or not.\n",
    "</div>"
   ]
  },
  {
   "cell_type": "markdown",
   "metadata": {},
   "source": [
    "### Importing Libraries\n",
    "<br/>\n",
    "<div style=\"text-align: justify;\">\n",
    "In this part, some of the necessary libraries were imported in order to use their helpful functions. These libraries are mostly used in data science applications.\n",
    "</div>"
   ]
  },
  {
   "cell_type": "code",
   "execution_count": 1,
   "metadata": {},
   "outputs": [],
   "source": [
    "import numpy as np\n",
    "import pandas as pd\n",
    "from time import time\n",
    "from scipy.stats import norm\n",
    "import matplotlib.pyplot as plt\n",
    "from pandas.api.types import is_numeric_dtype"
   ]
  },
  {
   "cell_type": "markdown",
   "metadata": {},
   "source": [
    "### Defining Constants\n",
    "<br/>\n",
    "<div style=\"text-align: justify;\">\n",
    "In this part constant values are defined in order to make the code more readable and more flexible to change.\n",
    "</div>"
   ]
  },
  {
   "cell_type": "code",
   "execution_count": 2,
   "metadata": {},
   "outputs": [],
   "source": [
    "TRUE = 1\n",
    "FALSE = 0\n",
    "MALE = 1\n",
    "FEMALE = 0\n",
    "MY_AGE = 21\n",
    "CLICKED = 1\n",
    "NOT_CLICKED = 0\n",
    "TARGET = 'Clicked on Ad'"
   ]
  },
  {
   "cell_type": "markdown",
   "metadata": {},
   "source": [
    "### Importing Data\n",
    "\n",
    "Contents of file *advertising_dataset.csv* was read using *pd.read_csv* and then stored in the *advertising* dataframe.\n"
   ]
  },
  {
   "cell_type": "code",
   "execution_count": 3,
   "metadata": {},
   "outputs": [],
   "source": [
    "advertising = pd.read_csv('advertising_dataset.csv', index_col = 'Unnamed: 0')"
   ]
  },
  {
   "cell_type": "markdown",
   "metadata": {},
   "source": [
    "Pandas *tail* method is used in order to return the last _n_ rows of the dataframe. *n* is 5 by default."
   ]
  },
  {
   "cell_type": "code",
   "execution_count": 4,
   "metadata": {
    "scrolled": true
   },
   "outputs": [
    {
     "data": {
      "text/html": [
       "<div>\n",
       "<style scoped>\n",
       "    .dataframe tbody tr th:only-of-type {\n",
       "        vertical-align: middle;\n",
       "    }\n",
       "\n",
       "    .dataframe tbody tr th {\n",
       "        vertical-align: top;\n",
       "    }\n",
       "\n",
       "    .dataframe thead th {\n",
       "        text-align: right;\n",
       "    }\n",
       "</style>\n",
       "<table border=\"1\" class=\"dataframe\">\n",
       "  <thead>\n",
       "    <tr style=\"text-align: right;\">\n",
       "      <th></th>\n",
       "      <th>Daily Time Spent on Site</th>\n",
       "      <th>Age</th>\n",
       "      <th>Area Income</th>\n",
       "      <th>Daily Internet Usage</th>\n",
       "      <th>Ad Topic Line</th>\n",
       "      <th>City</th>\n",
       "      <th>Gender</th>\n",
       "      <th>Country</th>\n",
       "      <th>Timestamp</th>\n",
       "      <th>Clicked on Ad</th>\n",
       "    </tr>\n",
       "  </thead>\n",
       "  <tbody>\n",
       "    <tr>\n",
       "      <th>995</th>\n",
       "      <td>72.97</td>\n",
       "      <td>30.0</td>\n",
       "      <td>71384.57</td>\n",
       "      <td>208.58</td>\n",
       "      <td>Fundamental modular algorithm</td>\n",
       "      <td>Duffystad</td>\n",
       "      <td>Male</td>\n",
       "      <td>Lebanon</td>\n",
       "      <td>2016-02-11 21:49:00</td>\n",
       "      <td>1.0</td>\n",
       "    </tr>\n",
       "    <tr>\n",
       "      <th>996</th>\n",
       "      <td>51.30</td>\n",
       "      <td>45.0</td>\n",
       "      <td>67782.17</td>\n",
       "      <td>134.42</td>\n",
       "      <td>Grass-roots cohesive monitoring</td>\n",
       "      <td>New Darlene</td>\n",
       "      <td>Male</td>\n",
       "      <td>Bosnia and Herzegovina</td>\n",
       "      <td>2016-04-22 02:07:01</td>\n",
       "      <td>1.0</td>\n",
       "    </tr>\n",
       "    <tr>\n",
       "      <th>997</th>\n",
       "      <td>51.63</td>\n",
       "      <td>51.0</td>\n",
       "      <td>42415.72</td>\n",
       "      <td>120.37</td>\n",
       "      <td>Expanded intangible solution</td>\n",
       "      <td>South Jessica</td>\n",
       "      <td>Male</td>\n",
       "      <td>Mongolia</td>\n",
       "      <td>2016-02-01 17:24:57</td>\n",
       "      <td>1.0</td>\n",
       "    </tr>\n",
       "    <tr>\n",
       "      <th>998</th>\n",
       "      <td>55.55</td>\n",
       "      <td>19.0</td>\n",
       "      <td>41920.79</td>\n",
       "      <td>187.95</td>\n",
       "      <td>Proactive bandwidth-monitored policy</td>\n",
       "      <td>West Steven</td>\n",
       "      <td>Female</td>\n",
       "      <td>Guatemala</td>\n",
       "      <td>2016-03-24 02:35:54</td>\n",
       "      <td>0.0</td>\n",
       "    </tr>\n",
       "    <tr>\n",
       "      <th>999</th>\n",
       "      <td>NaN</td>\n",
       "      <td>26.0</td>\n",
       "      <td>29875.80</td>\n",
       "      <td>178.35</td>\n",
       "      <td>Virtual 5thgeneration emulation</td>\n",
       "      <td>Ronniemouth</td>\n",
       "      <td>Female</td>\n",
       "      <td>Brazil</td>\n",
       "      <td>2016-06-03 21:43:21</td>\n",
       "      <td>1.0</td>\n",
       "    </tr>\n",
       "  </tbody>\n",
       "</table>\n",
       "</div>"
      ],
      "text/plain": [
       "     Daily Time Spent on Site   Age  Area Income  Daily Internet Usage  \\\n",
       "995                     72.97  30.0     71384.57                208.58   \n",
       "996                     51.30  45.0     67782.17                134.42   \n",
       "997                     51.63  51.0     42415.72                120.37   \n",
       "998                     55.55  19.0     41920.79                187.95   \n",
       "999                       NaN  26.0     29875.80                178.35   \n",
       "\n",
       "                            Ad Topic Line           City  Gender  \\\n",
       "995         Fundamental modular algorithm      Duffystad    Male   \n",
       "996       Grass-roots cohesive monitoring    New Darlene    Male   \n",
       "997          Expanded intangible solution  South Jessica    Male   \n",
       "998  Proactive bandwidth-monitored policy    West Steven  Female   \n",
       "999       Virtual 5thgeneration emulation    Ronniemouth  Female   \n",
       "\n",
       "                    Country            Timestamp  Clicked on Ad  \n",
       "995                 Lebanon  2016-02-11 21:49:00            1.0  \n",
       "996  Bosnia and Herzegovina  2016-04-22 02:07:01            1.0  \n",
       "997                Mongolia  2016-02-01 17:24:57            1.0  \n",
       "998               Guatemala  2016-03-24 02:35:54            0.0  \n",
       "999                  Brazil  2016-06-03 21:43:21            1.0  "
      ]
     },
     "execution_count": 4,
     "metadata": {},
     "output_type": "execute_result"
    }
   ],
   "source": [
    "advertising.tail()"
   ]
  },
  {
   "cell_type": "markdown",
   "metadata": {},
   "source": [
    "Pandas *head* method is used in order to return the first _n_ rows of the dataframe. *n* is 5 by default."
   ]
  },
  {
   "cell_type": "code",
   "execution_count": 5,
   "metadata": {},
   "outputs": [
    {
     "data": {
      "text/html": [
       "<div>\n",
       "<style scoped>\n",
       "    .dataframe tbody tr th:only-of-type {\n",
       "        vertical-align: middle;\n",
       "    }\n",
       "\n",
       "    .dataframe tbody tr th {\n",
       "        vertical-align: top;\n",
       "    }\n",
       "\n",
       "    .dataframe thead th {\n",
       "        text-align: right;\n",
       "    }\n",
       "</style>\n",
       "<table border=\"1\" class=\"dataframe\">\n",
       "  <thead>\n",
       "    <tr style=\"text-align: right;\">\n",
       "      <th></th>\n",
       "      <th>Daily Time Spent on Site</th>\n",
       "      <th>Age</th>\n",
       "      <th>Area Income</th>\n",
       "      <th>Daily Internet Usage</th>\n",
       "      <th>Ad Topic Line</th>\n",
       "      <th>City</th>\n",
       "      <th>Gender</th>\n",
       "      <th>Country</th>\n",
       "      <th>Timestamp</th>\n",
       "      <th>Clicked on Ad</th>\n",
       "    </tr>\n",
       "  </thead>\n",
       "  <tbody>\n",
       "    <tr>\n",
       "      <th>0</th>\n",
       "      <td>68.95</td>\n",
       "      <td>35.0</td>\n",
       "      <td>61833.90</td>\n",
       "      <td>256.09</td>\n",
       "      <td>Cloned 5thgeneration orchestration</td>\n",
       "      <td>Wrightburgh</td>\n",
       "      <td>Female</td>\n",
       "      <td>Tunisia</td>\n",
       "      <td>2016-03-27 00:53:11</td>\n",
       "      <td>0.0</td>\n",
       "    </tr>\n",
       "    <tr>\n",
       "      <th>1</th>\n",
       "      <td>80.23</td>\n",
       "      <td>31.0</td>\n",
       "      <td>68441.85</td>\n",
       "      <td>NaN</td>\n",
       "      <td>Monitored national standardization</td>\n",
       "      <td>West Jodi</td>\n",
       "      <td>Male</td>\n",
       "      <td>Nauru</td>\n",
       "      <td>2016-04-04 01:39:02</td>\n",
       "      <td>0.0</td>\n",
       "    </tr>\n",
       "    <tr>\n",
       "      <th>2</th>\n",
       "      <td>69.47</td>\n",
       "      <td>26.0</td>\n",
       "      <td>59785.94</td>\n",
       "      <td>236.50</td>\n",
       "      <td>Organic bottom-line service-desk</td>\n",
       "      <td>Davidton</td>\n",
       "      <td>Female</td>\n",
       "      <td>San Marino</td>\n",
       "      <td>2016-03-13 20:35:42</td>\n",
       "      <td>0.0</td>\n",
       "    </tr>\n",
       "    <tr>\n",
       "      <th>3</th>\n",
       "      <td>74.15</td>\n",
       "      <td>29.0</td>\n",
       "      <td>54806.18</td>\n",
       "      <td>245.89</td>\n",
       "      <td>Triple-buffered reciprocal time-frame</td>\n",
       "      <td>West Terrifurt</td>\n",
       "      <td>Male</td>\n",
       "      <td>Italy</td>\n",
       "      <td>2016-01-10 02:31:19</td>\n",
       "      <td>0.0</td>\n",
       "    </tr>\n",
       "    <tr>\n",
       "      <th>4</th>\n",
       "      <td>68.37</td>\n",
       "      <td>35.0</td>\n",
       "      <td>73889.99</td>\n",
       "      <td>225.58</td>\n",
       "      <td>Robust logistical utilization</td>\n",
       "      <td>South Manuel</td>\n",
       "      <td>Female</td>\n",
       "      <td>Iceland</td>\n",
       "      <td>2016-06-03 03:36:18</td>\n",
       "      <td>0.0</td>\n",
       "    </tr>\n",
       "  </tbody>\n",
       "</table>\n",
       "</div>"
      ],
      "text/plain": [
       "   Daily Time Spent on Site   Age  Area Income  Daily Internet Usage  \\\n",
       "0                     68.95  35.0     61833.90                256.09   \n",
       "1                     80.23  31.0     68441.85                   NaN   \n",
       "2                     69.47  26.0     59785.94                236.50   \n",
       "3                     74.15  29.0     54806.18                245.89   \n",
       "4                     68.37  35.0     73889.99                225.58   \n",
       "\n",
       "                           Ad Topic Line            City  Gender     Country  \\\n",
       "0     Cloned 5thgeneration orchestration     Wrightburgh  Female     Tunisia   \n",
       "1     Monitored national standardization       West Jodi    Male       Nauru   \n",
       "2       Organic bottom-line service-desk        Davidton  Female  San Marino   \n",
       "3  Triple-buffered reciprocal time-frame  West Terrifurt    Male       Italy   \n",
       "4          Robust logistical utilization    South Manuel  Female     Iceland   \n",
       "\n",
       "             Timestamp  Clicked on Ad  \n",
       "0  2016-03-27 00:53:11            0.0  \n",
       "1  2016-04-04 01:39:02            0.0  \n",
       "2  2016-03-13 20:35:42            0.0  \n",
       "3  2016-01-10 02:31:19            0.0  \n",
       "4  2016-06-03 03:36:18            0.0  "
      ]
     },
     "execution_count": 5,
     "metadata": {},
     "output_type": "execute_result"
    }
   ],
   "source": [
    "advertising.head()"
   ]
  },
  {
   "cell_type": "markdown",
   "metadata": {},
   "source": [
    "### Basic Statistical Details of  Data\n",
    "Pandas *describe* method is used in order to view some basic statistical details like max, min, percentile, mean, std etc. of the dataframe."
   ]
  },
  {
   "cell_type": "code",
   "execution_count": 6,
   "metadata": {},
   "outputs": [
    {
     "data": {
      "text/html": [
       "<div>\n",
       "<style scoped>\n",
       "    .dataframe tbody tr th:only-of-type {\n",
       "        vertical-align: middle;\n",
       "    }\n",
       "\n",
       "    .dataframe tbody tr th {\n",
       "        vertical-align: top;\n",
       "    }\n",
       "\n",
       "    .dataframe thead th {\n",
       "        text-align: right;\n",
       "    }\n",
       "</style>\n",
       "<table border=\"1\" class=\"dataframe\">\n",
       "  <thead>\n",
       "    <tr style=\"text-align: right;\">\n",
       "      <th></th>\n",
       "      <th>Daily Time Spent on Site</th>\n",
       "      <th>Age</th>\n",
       "      <th>Area Income</th>\n",
       "      <th>Daily Internet Usage</th>\n",
       "      <th>Clicked on Ad</th>\n",
       "    </tr>\n",
       "  </thead>\n",
       "  <tbody>\n",
       "    <tr>\n",
       "      <th>count</th>\n",
       "      <td>907.000000</td>\n",
       "      <td>979.000000</td>\n",
       "      <td>1000.000000</td>\n",
       "      <td>913.000000</td>\n",
       "      <td>832.000000</td>\n",
       "    </tr>\n",
       "    <tr>\n",
       "      <th>mean</th>\n",
       "      <td>64.794818</td>\n",
       "      <td>36.009193</td>\n",
       "      <td>55000.000080</td>\n",
       "      <td>179.751271</td>\n",
       "      <td>0.496394</td>\n",
       "    </tr>\n",
       "    <tr>\n",
       "      <th>std</th>\n",
       "      <td>15.954841</td>\n",
       "      <td>8.783636</td>\n",
       "      <td>13414.634022</td>\n",
       "      <td>43.957934</td>\n",
       "      <td>0.500288</td>\n",
       "    </tr>\n",
       "    <tr>\n",
       "      <th>min</th>\n",
       "      <td>32.600000</td>\n",
       "      <td>19.000000</td>\n",
       "      <td>13996.500000</td>\n",
       "      <td>104.780000</td>\n",
       "      <td>0.000000</td>\n",
       "    </tr>\n",
       "    <tr>\n",
       "      <th>25%</th>\n",
       "      <td>50.615000</td>\n",
       "      <td>29.000000</td>\n",
       "      <td>47031.802500</td>\n",
       "      <td>138.550000</td>\n",
       "      <td>0.000000</td>\n",
       "    </tr>\n",
       "    <tr>\n",
       "      <th>50%</th>\n",
       "      <td>67.940000</td>\n",
       "      <td>35.000000</td>\n",
       "      <td>57012.300000</td>\n",
       "      <td>183.480000</td>\n",
       "      <td>0.000000</td>\n",
       "    </tr>\n",
       "    <tr>\n",
       "      <th>75%</th>\n",
       "      <td>78.555000</td>\n",
       "      <td>42.000000</td>\n",
       "      <td>65470.635000</td>\n",
       "      <td>217.850000</td>\n",
       "      <td>1.000000</td>\n",
       "    </tr>\n",
       "    <tr>\n",
       "      <th>max</th>\n",
       "      <td>91.430000</td>\n",
       "      <td>61.000000</td>\n",
       "      <td>79484.800000</td>\n",
       "      <td>269.960000</td>\n",
       "      <td>1.000000</td>\n",
       "    </tr>\n",
       "  </tbody>\n",
       "</table>\n",
       "</div>"
      ],
      "text/plain": [
       "       Daily Time Spent on Site         Age   Area Income  \\\n",
       "count                907.000000  979.000000   1000.000000   \n",
       "mean                  64.794818   36.009193  55000.000080   \n",
       "std                   15.954841    8.783636  13414.634022   \n",
       "min                   32.600000   19.000000  13996.500000   \n",
       "25%                   50.615000   29.000000  47031.802500   \n",
       "50%                   67.940000   35.000000  57012.300000   \n",
       "75%                   78.555000   42.000000  65470.635000   \n",
       "max                   91.430000   61.000000  79484.800000   \n",
       "\n",
       "       Daily Internet Usage  Clicked on Ad  \n",
       "count            913.000000     832.000000  \n",
       "mean             179.751271       0.496394  \n",
       "std               43.957934       0.500288  \n",
       "min              104.780000       0.000000  \n",
       "25%              138.550000       0.000000  \n",
       "50%              183.480000       0.000000  \n",
       "75%              217.850000       1.000000  \n",
       "max              269.960000       1.000000  "
      ]
     },
     "execution_count": 6,
     "metadata": {},
     "output_type": "execute_result"
    }
   ],
   "source": [
    "advertising.describe()"
   ]
  },
  {
   "cell_type": "markdown",
   "metadata": {},
   "source": [
    "### Concise Summary of  Data \n",
    "This method prints information about the dataframe such as the index dtype and column dtypes, non-null values and memory usage."
   ]
  },
  {
   "cell_type": "code",
   "execution_count": 7,
   "metadata": {},
   "outputs": [
    {
     "name": "stdout",
     "output_type": "stream",
     "text": [
      "<class 'pandas.core.frame.DataFrame'>\n",
      "Int64Index: 1000 entries, 0 to 999\n",
      "Data columns (total 10 columns):\n",
      " #   Column                    Non-Null Count  Dtype  \n",
      "---  ------                    --------------  -----  \n",
      " 0   Daily Time Spent on Site  907 non-null    float64\n",
      " 1   Age                       979 non-null    float64\n",
      " 2   Area Income               1000 non-null   float64\n",
      " 3   Daily Internet Usage      913 non-null    float64\n",
      " 4   Ad Topic Line             1000 non-null   object \n",
      " 5   City                      1000 non-null   object \n",
      " 6   Gender                    1000 non-null   object \n",
      " 7   Country                   1000 non-null   object \n",
      " 8   Timestamp                 1000 non-null   object \n",
      " 9   Clicked on Ad             832 non-null    float64\n",
      "dtypes: float64(5), object(5)\n",
      "memory usage: 85.9+ KB\n"
     ]
    }
   ],
   "source": [
    "advertising.info()"
   ]
  },
  {
   "cell_type": "markdown",
   "metadata": {},
   "source": [
    "### Label Encoding\n",
    "\n",
    "In this part _replace_ method is used in oreder to convert categorical data to numerical data."
   ]
  },
  {
   "cell_type": "code",
   "execution_count": 8,
   "metadata": {},
   "outputs": [],
   "source": [
    "advertising = advertising.replace({'Gender': {'Male': MALE, 'Female': FEMALE}})"
   ]
  },
  {
   "cell_type": "code",
   "execution_count": 9,
   "metadata": {},
   "outputs": [
    {
     "data": {
      "text/html": [
       "<div>\n",
       "<style scoped>\n",
       "    .dataframe tbody tr th:only-of-type {\n",
       "        vertical-align: middle;\n",
       "    }\n",
       "\n",
       "    .dataframe tbody tr th {\n",
       "        vertical-align: top;\n",
       "    }\n",
       "\n",
       "    .dataframe thead th {\n",
       "        text-align: right;\n",
       "    }\n",
       "</style>\n",
       "<table border=\"1\" class=\"dataframe\">\n",
       "  <thead>\n",
       "    <tr style=\"text-align: right;\">\n",
       "      <th></th>\n",
       "      <th>Daily Time Spent on Site</th>\n",
       "      <th>Age</th>\n",
       "      <th>Area Income</th>\n",
       "      <th>Daily Internet Usage</th>\n",
       "      <th>Ad Topic Line</th>\n",
       "      <th>City</th>\n",
       "      <th>Gender</th>\n",
       "      <th>Country</th>\n",
       "      <th>Timestamp</th>\n",
       "      <th>Clicked on Ad</th>\n",
       "    </tr>\n",
       "  </thead>\n",
       "  <tbody>\n",
       "    <tr>\n",
       "      <th>0</th>\n",
       "      <td>68.95</td>\n",
       "      <td>35.0</td>\n",
       "      <td>61833.90</td>\n",
       "      <td>256.09</td>\n",
       "      <td>Cloned 5thgeneration orchestration</td>\n",
       "      <td>Wrightburgh</td>\n",
       "      <td>0</td>\n",
       "      <td>Tunisia</td>\n",
       "      <td>2016-03-27 00:53:11</td>\n",
       "      <td>0.0</td>\n",
       "    </tr>\n",
       "    <tr>\n",
       "      <th>1</th>\n",
       "      <td>80.23</td>\n",
       "      <td>31.0</td>\n",
       "      <td>68441.85</td>\n",
       "      <td>NaN</td>\n",
       "      <td>Monitored national standardization</td>\n",
       "      <td>West Jodi</td>\n",
       "      <td>1</td>\n",
       "      <td>Nauru</td>\n",
       "      <td>2016-04-04 01:39:02</td>\n",
       "      <td>0.0</td>\n",
       "    </tr>\n",
       "    <tr>\n",
       "      <th>2</th>\n",
       "      <td>69.47</td>\n",
       "      <td>26.0</td>\n",
       "      <td>59785.94</td>\n",
       "      <td>236.50</td>\n",
       "      <td>Organic bottom-line service-desk</td>\n",
       "      <td>Davidton</td>\n",
       "      <td>0</td>\n",
       "      <td>San Marino</td>\n",
       "      <td>2016-03-13 20:35:42</td>\n",
       "      <td>0.0</td>\n",
       "    </tr>\n",
       "    <tr>\n",
       "      <th>3</th>\n",
       "      <td>74.15</td>\n",
       "      <td>29.0</td>\n",
       "      <td>54806.18</td>\n",
       "      <td>245.89</td>\n",
       "      <td>Triple-buffered reciprocal time-frame</td>\n",
       "      <td>West Terrifurt</td>\n",
       "      <td>1</td>\n",
       "      <td>Italy</td>\n",
       "      <td>2016-01-10 02:31:19</td>\n",
       "      <td>0.0</td>\n",
       "    </tr>\n",
       "    <tr>\n",
       "      <th>4</th>\n",
       "      <td>68.37</td>\n",
       "      <td>35.0</td>\n",
       "      <td>73889.99</td>\n",
       "      <td>225.58</td>\n",
       "      <td>Robust logistical utilization</td>\n",
       "      <td>South Manuel</td>\n",
       "      <td>0</td>\n",
       "      <td>Iceland</td>\n",
       "      <td>2016-06-03 03:36:18</td>\n",
       "      <td>0.0</td>\n",
       "    </tr>\n",
       "  </tbody>\n",
       "</table>\n",
       "</div>"
      ],
      "text/plain": [
       "   Daily Time Spent on Site   Age  Area Income  Daily Internet Usage  \\\n",
       "0                     68.95  35.0     61833.90                256.09   \n",
       "1                     80.23  31.0     68441.85                   NaN   \n",
       "2                     69.47  26.0     59785.94                236.50   \n",
       "3                     74.15  29.0     54806.18                245.89   \n",
       "4                     68.37  35.0     73889.99                225.58   \n",
       "\n",
       "                           Ad Topic Line            City  Gender     Country  \\\n",
       "0     Cloned 5thgeneration orchestration     Wrightburgh       0     Tunisia   \n",
       "1     Monitored national standardization       West Jodi       1       Nauru   \n",
       "2       Organic bottom-line service-desk        Davidton       0  San Marino   \n",
       "3  Triple-buffered reciprocal time-frame  West Terrifurt       1       Italy   \n",
       "4          Robust logistical utilization    South Manuel       0     Iceland   \n",
       "\n",
       "             Timestamp  Clicked on Ad  \n",
       "0  2016-03-27 00:53:11            0.0  \n",
       "1  2016-04-04 01:39:02            0.0  \n",
       "2  2016-03-13 20:35:42            0.0  \n",
       "3  2016-01-10 02:31:19            0.0  \n",
       "4  2016-06-03 03:36:18            0.0  "
      ]
     },
     "execution_count": 9,
     "metadata": {},
     "output_type": "execute_result"
    }
   ],
   "source": [
    "advertising.head()"
   ]
  },
  {
   "cell_type": "markdown",
   "metadata": {},
   "source": [
    "### Counting Missing Values\n",
    "In this part the combination of two Pandas methods (_isna_ and _sum_) is used in oreder to count number of missing values at each column."
   ]
  },
  {
   "cell_type": "code",
   "execution_count": 10,
   "metadata": {},
   "outputs": [
    {
     "data": {
      "text/plain": [
       "Daily Time Spent on Site     93\n",
       "Age                          21\n",
       "Area Income                   0\n",
       "Daily Internet Usage         87\n",
       "Ad Topic Line                 0\n",
       "City                          0\n",
       "Gender                        0\n",
       "Country                       0\n",
       "Timestamp                     0\n",
       "Clicked on Ad               168\n",
       "dtype: int64"
      ]
     },
     "execution_count": 10,
     "metadata": {},
     "output_type": "execute_result"
    }
   ],
   "source": [
    "advertising.isna().sum()"
   ]
  },
  {
   "cell_type": "markdown",
   "metadata": {},
   "source": [
    "### Filling Missing Values\n",
    "Pandas *fillna* method is used to fill out the missing values in the given column."
   ]
  },
  {
   "cell_type": "code",
   "execution_count": 11,
   "metadata": {},
   "outputs": [],
   "source": [
    "for column in advertising:\n",
    "    if advertising[column].isnull().values.any() == False or column == TARGET:\n",
    "        continue \n",
    "    advertising[column] = advertising[column].fillna(advertising[column].mean())"
   ]
  },
  {
   "cell_type": "code",
   "execution_count": 12,
   "metadata": {},
   "outputs": [
    {
     "data": {
      "text/plain": [
       "Daily Time Spent on Site      0\n",
       "Age                           0\n",
       "Area Income                   0\n",
       "Daily Internet Usage          0\n",
       "Ad Topic Line                 0\n",
       "City                          0\n",
       "Gender                        0\n",
       "Country                       0\n",
       "Timestamp                     0\n",
       "Clicked on Ad               168\n",
       "dtype: int64"
      ]
     },
     "execution_count": 12,
     "metadata": {},
     "output_type": "execute_result"
    }
   ],
   "source": [
    "advertising.isna().sum()"
   ]
  },
  {
   "cell_type": "markdown",
   "metadata": {},
   "source": [
    "### Another Approach for Handling Missing Values\n",
    "Another way to handle missing values in datasets is to drop the rows having null values.   \n",
    "**Pros:**\n",
    "<ul>\n",
    "    <li>\n",
    "Complete removal of data with missing values results in robust and highly accurate model.\n",
    "    </li>\n",
    "    <li>\n",
    "Deleting a particular row or a column with no specific information is better, since it does not have a high weightage.\n",
    "    </li>\n",
    "</ul>\n",
    "<b>Cons:</b>\n",
    "<ul>\n",
    "    <li>\n",
    "It can cause loss of information and data.\n",
    "    </li>\n",
    "    <li>\n",
    "It works poorly if the percentage of missing values is high (about 30%), compared to the whole dataset.\n",
    "    </li>\n",
    "</ul>"
   ]
  },
  {
   "cell_type": "markdown",
   "metadata": {},
   "source": [
    "### Counting Female & Male Users\n",
    "Pandas *groupby* method is used to split the data into groups based on some criteria."
   ]
  },
  {
   "cell_type": "code",
   "execution_count": 13,
   "metadata": {},
   "outputs": [
    {
     "data": {
      "text/html": [
       "<div>\n",
       "<style scoped>\n",
       "    .dataframe tbody tr th:only-of-type {\n",
       "        vertical-align: middle;\n",
       "    }\n",
       "\n",
       "    .dataframe tbody tr th {\n",
       "        vertical-align: top;\n",
       "    }\n",
       "\n",
       "    .dataframe thead th {\n",
       "        text-align: right;\n",
       "    }\n",
       "</style>\n",
       "<table border=\"1\" class=\"dataframe\">\n",
       "  <thead>\n",
       "    <tr style=\"text-align: right;\">\n",
       "      <th></th>\n",
       "      <th>count</th>\n",
       "    </tr>\n",
       "    <tr>\n",
       "      <th>Gender</th>\n",
       "      <th></th>\n",
       "    </tr>\n",
       "  </thead>\n",
       "  <tbody>\n",
       "    <tr>\n",
       "      <th>0</th>\n",
       "      <td>519</td>\n",
       "    </tr>\n",
       "    <tr>\n",
       "      <th>1</th>\n",
       "      <td>481</td>\n",
       "    </tr>\n",
       "  </tbody>\n",
       "</table>\n",
       "</div>"
      ],
      "text/plain": [
       "        count\n",
       "Gender       \n",
       "0         519\n",
       "1         481"
      ]
     },
     "execution_count": 13,
     "metadata": {},
     "output_type": "execute_result"
    }
   ],
   "source": [
    "advertising.groupby(['Gender'])['Gender'].agg(['count'])"
   ]
  },
  {
   "cell_type": "markdown",
   "metadata": {},
   "source": [
    "### Counting Users has Clicked on Ad or not"
   ]
  },
  {
   "cell_type": "code",
   "execution_count": 14,
   "metadata": {},
   "outputs": [
    {
     "data": {
      "text/html": [
       "<div>\n",
       "<style scoped>\n",
       "    .dataframe tbody tr th:only-of-type {\n",
       "        vertical-align: middle;\n",
       "    }\n",
       "\n",
       "    .dataframe tbody tr th {\n",
       "        vertical-align: top;\n",
       "    }\n",
       "\n",
       "    .dataframe thead th {\n",
       "        text-align: right;\n",
       "    }\n",
       "</style>\n",
       "<table border=\"1\" class=\"dataframe\">\n",
       "  <thead>\n",
       "    <tr style=\"text-align: right;\">\n",
       "      <th></th>\n",
       "      <th>count</th>\n",
       "    </tr>\n",
       "    <tr>\n",
       "      <th>Clicked on Ad</th>\n",
       "      <th></th>\n",
       "    </tr>\n",
       "  </thead>\n",
       "  <tbody>\n",
       "    <tr>\n",
       "      <th>0.0</th>\n",
       "      <td>419</td>\n",
       "    </tr>\n",
       "    <tr>\n",
       "      <th>1.0</th>\n",
       "      <td>413</td>\n",
       "    </tr>\n",
       "  </tbody>\n",
       "</table>\n",
       "</div>"
      ],
      "text/plain": [
       "               count\n",
       "Clicked on Ad       \n",
       "0.0              419\n",
       "1.0              413"
      ]
     },
     "execution_count": 14,
     "metadata": {},
     "output_type": "execute_result"
    }
   ],
   "source": [
    "advertising.groupby([TARGET])[TARGET].agg(['count'])"
   ]
  },
  {
   "cell_type": "markdown",
   "metadata": {},
   "source": [
    "### Counting Female Users Older than Me\n",
    "Pandas *loc* attribute access a group of rows and columns by label(s) or a boolean array in the given dataframe."
   ]
  },
  {
   "cell_type": "code",
   "execution_count": 15,
   "metadata": {},
   "outputs": [
    {
     "name": "stdout",
     "output_type": "stream",
     "text": [
      "Number of Users that are Female and Older than me: 514\n"
     ]
    }
   ],
   "source": [
    "specific_users = len(advertising.loc[(advertising['Age'] > MY_AGE) & (advertising['Gender'] == FEMALE)].index)\n",
    "print('Number of Users that are Female and Older than me:', specific_users)"
   ]
  },
  {
   "cell_type": "markdown",
   "metadata": {},
   "source": [
    "### Using Vectorization\n",
    "In this part Pandas *groupby* buit-in method is used in order make computation vectorized."
   ]
  },
  {
   "cell_type": "code",
   "execution_count": 16,
   "metadata": {},
   "outputs": [
    {
     "name": "stdout",
     "output_type": "stream",
     "text": [
      "Clicked on Ad\n",
      "0.0    31.723326\n",
      "1.0    40.295600\n",
      "Name: Age, dtype: float64\n",
      "vectorization: 2.371550 ms\n"
     ]
    }
   ],
   "source": [
    "tic = time()\n",
    "\n",
    "avg_age = advertising.groupby([TARGET])['Age'].mean()\n",
    "\n",
    "toc = time()\n",
    "\n",
    "print(avg_age)\n",
    "print('vectorization: %f ms' % ((toc - tic)  * 1000))"
   ]
  },
  {
   "cell_type": "markdown",
   "metadata": {},
   "source": [
    "### Using For Loop"
   ]
  },
  {
   "cell_type": "code",
   "execution_count": 17,
   "metadata": {},
   "outputs": [
    {
     "name": "stdout",
     "output_type": "stream",
     "text": [
      "Average Age of Users who did not click on Ad: 31.723325881701896\n",
      "Average Age of Users who clicked on Ad: 40.295599848637366\n",
      "for loop: 244.388580 ms\n"
     ]
    }
   ],
   "source": [
    "clicked_avg_age = 0\n",
    "didnt_click_avg_age = 0\n",
    "\n",
    "clicked_count = 0\n",
    "didnt_click_count = 0\n",
    "\n",
    "tic = time()\n",
    "\n",
    "for index, row in advertising.iterrows():\n",
    "    if row[TARGET] == TRUE:\n",
    "        clicked_avg_age += row['Age']\n",
    "        clicked_count += 1\n",
    "    elif row[TARGET] == FALSE:\n",
    "        didnt_click_avg_age += row['Age']\n",
    "        didnt_click_count += 1\n",
    "        \n",
    "if clicked_count > 0:\n",
    "    clicked_avg_age /= clicked_count\n",
    "    \n",
    "if didnt_click_count > 0:\n",
    "    didnt_click_avg_age /= didnt_click_count\n",
    "    \n",
    "toc = time()\n",
    "\n",
    "print('Average Age of Users who did not click on Ad:', didnt_click_avg_age)\n",
    "print('Average Age of Users who clicked on Ad:', clicked_avg_age)\n",
    "print('for loop: %f ms' % ((toc - tic)  * 1000))"
   ]
  },
  {
   "cell_type": "markdown",
   "metadata": {},
   "source": [
    "<div style=\"text-align: justify;\"> \n",
    "    What is happening in vectorization is that NumPy calls high quality numerical libraries (BLAS for instance) which are very good at vector arithmetic. Therefore, the result of our computation will ready much faster than using for loop. In this examole our computation was about 100 times faster by using vectorization.\n",
    "</div>"
   ]
  },
  {
   "cell_type": "markdown",
   "metadata": {},
   "source": [
    "### Dropping Non-Numeric Columns\n",
    "In this part non-numeric columns are dropped from our dataframe; this is done by using *is_numeric_dtype* method to check for numeric columns and *drop* method to drop the *given* column."
   ]
  },
  {
   "cell_type": "code",
   "execution_count": 18,
   "metadata": {},
   "outputs": [],
   "source": [
    "for column in advertising:\n",
    "    if is_numeric_dtype(advertising[column]) == False:\n",
    "        advertising.drop(column, axis=1, inplace=True)"
   ]
  },
  {
   "cell_type": "markdown",
   "metadata": {},
   "source": [
    "### Plotting Histogram of Characteristics\n",
    "In this part histogram of each column is drawn using Pandas *hist* method. We formatted these histograms using useful methods such as *suptitle*, *xlabel*, and *ylabel* from matplotlib library."
   ]
  },
  {
   "cell_type": "code",
   "execution_count": 19,
   "metadata": {
    "scrolled": false
   },
   "outputs": [
    {
     "data": {
      "image/png": "[encoded data removed]",
      "text/plain": [
       "<Figure size 432x288 with 1 Axes>"
      ]
     },
     "metadata": {
      "needs_background": "light"
     },
     "output_type": "display_data"
    },
    {
     "data": {
      "image/png": "[encoded data removed]",
      "text/plain": [
       "<Figure size 432x288 with 1 Axes>"
      ]
     },
     "metadata": {
      "needs_background": "light"
     },
     "output_type": "display_data"
    },
    {
     "data": {
      "image/png": "[encoded data removed]",
      "text/plain": [
       "<Figure size 432x288 with 1 Axes>"
      ]
     },
     "metadata": {
      "needs_background": "light"
     },
     "output_type": "display_data"
    },
    {
     "data": {
      "image/png": "[encoded data removed]",
      "text/plain": [
       "<Figure size 432x288 with 1 Axes>"
      ]
     },
     "metadata": {
      "needs_background": "light"
     },
     "output_type": "display_data"
    },
    {
     "data": {
      "image/png": "[encoded data removed]",
      "text/plain": [
       "<Figure size 432x288 with 1 Axes>"
      ]
     },
     "metadata": {
      "needs_background": "light"
     },
     "output_type": "display_data"
    },
    {
     "data": {
      "image/png": "[encoded data removed]",
      "text/plain": [
       "<Figure size 432x288 with 1 Axes>"
      ]
     },
     "metadata": {
      "needs_background": "light"
     },
     "output_type": "display_data"
    }
   ],
   "source": [
    "colors = ['#b5347e', '#9a34b5', '#1cc32f', '#1691a7', '#de6722', '#e5d700']\n",
    "cursor = 0\n",
    "\n",
    "for column in advertising:\n",
    "    plt.figure() \n",
    "    plt.suptitle('Histogram of ' + column, fontsize = 15)\n",
    "    plt.xlabel(column, fontsize = 12)\n",
    "    plt.ylabel('Frequency', fontsize = 12)\n",
    "    advertising[column].hist(color = colors[cursor])\n",
    "    cursor += 1"
   ]
  },
  {
   "cell_type": "markdown",
   "metadata": {},
   "source": [
    "### Dropping *Gender* Column"
   ]
  },
  {
   "cell_type": "code",
   "execution_count": 20,
   "metadata": {},
   "outputs": [],
   "source": [
    "advertising.drop('Gender', axis=1, inplace=True)"
   ]
  },
  {
   "cell_type": "code",
   "execution_count": 21,
   "metadata": {},
   "outputs": [
    {
     "data": {
      "text/html": [
       "<div>\n",
       "<style scoped>\n",
       "    .dataframe tbody tr th:only-of-type {\n",
       "        vertical-align: middle;\n",
       "    }\n",
       "\n",
       "    .dataframe tbody tr th {\n",
       "        vertical-align: top;\n",
       "    }\n",
       "\n",
       "    .dataframe thead th {\n",
       "        text-align: right;\n",
       "    }\n",
       "</style>\n",
       "<table border=\"1\" class=\"dataframe\">\n",
       "  <thead>\n",
       "    <tr style=\"text-align: right;\">\n",
       "      <th></th>\n",
       "      <th>Daily Time Spent on Site</th>\n",
       "      <th>Age</th>\n",
       "      <th>Area Income</th>\n",
       "      <th>Daily Internet Usage</th>\n",
       "      <th>Clicked on Ad</th>\n",
       "    </tr>\n",
       "  </thead>\n",
       "  <tbody>\n",
       "    <tr>\n",
       "      <th>0</th>\n",
       "      <td>68.95</td>\n",
       "      <td>35.0</td>\n",
       "      <td>61833.90</td>\n",
       "      <td>256.090000</td>\n",
       "      <td>0.0</td>\n",
       "    </tr>\n",
       "    <tr>\n",
       "      <th>1</th>\n",
       "      <td>80.23</td>\n",
       "      <td>31.0</td>\n",
       "      <td>68441.85</td>\n",
       "      <td>179.751271</td>\n",
       "      <td>0.0</td>\n",
       "    </tr>\n",
       "    <tr>\n",
       "      <th>2</th>\n",
       "      <td>69.47</td>\n",
       "      <td>26.0</td>\n",
       "      <td>59785.94</td>\n",
       "      <td>236.500000</td>\n",
       "      <td>0.0</td>\n",
       "    </tr>\n",
       "    <tr>\n",
       "      <th>3</th>\n",
       "      <td>74.15</td>\n",
       "      <td>29.0</td>\n",
       "      <td>54806.18</td>\n",
       "      <td>245.890000</td>\n",
       "      <td>0.0</td>\n",
       "    </tr>\n",
       "    <tr>\n",
       "      <th>4</th>\n",
       "      <td>68.37</td>\n",
       "      <td>35.0</td>\n",
       "      <td>73889.99</td>\n",
       "      <td>225.580000</td>\n",
       "      <td>0.0</td>\n",
       "    </tr>\n",
       "  </tbody>\n",
       "</table>\n",
       "</div>"
      ],
      "text/plain": [
       "   Daily Time Spent on Site   Age  Area Income  Daily Internet Usage  \\\n",
       "0                     68.95  35.0     61833.90            256.090000   \n",
       "1                     80.23  31.0     68441.85            179.751271   \n",
       "2                     69.47  26.0     59785.94            236.500000   \n",
       "3                     74.15  29.0     54806.18            245.890000   \n",
       "4                     68.37  35.0     73889.99            225.580000   \n",
       "\n",
       "   Clicked on Ad  \n",
       "0            0.0  \n",
       "1            0.0  \n",
       "2            0.0  \n",
       "3            0.0  \n",
       "4            0.0  "
      ]
     },
     "execution_count": 21,
     "metadata": {},
     "output_type": "execute_result"
    }
   ],
   "source": [
    "advertising.head()"
   ]
  },
  {
   "cell_type": "markdown",
   "metadata": {},
   "source": [
    "### Normalizing Data\n",
    "In this part values of each column is normalized; this is done by subtracting each column value by the mean and then dividing the result by the standard deviation of that column."
   ]
  },
  {
   "cell_type": "code",
   "execution_count": 22,
   "metadata": {},
   "outputs": [],
   "source": [
    "for column in advertising:\n",
    "    if column != TARGET:\n",
    "        advertising[column] -= advertising[column].mean()\n",
    "        advertising[column] /= advertising[column].std()"
   ]
  },
  {
   "cell_type": "code",
   "execution_count": 23,
   "metadata": {},
   "outputs": [
    {
     "data": {
      "text/html": [
       "<div>\n",
       "<style scoped>\n",
       "    .dataframe tbody tr th:only-of-type {\n",
       "        vertical-align: middle;\n",
       "    }\n",
       "\n",
       "    .dataframe tbody tr th {\n",
       "        vertical-align: top;\n",
       "    }\n",
       "\n",
       "    .dataframe thead th {\n",
       "        text-align: right;\n",
       "    }\n",
       "</style>\n",
       "<table border=\"1\" class=\"dataframe\">\n",
       "  <thead>\n",
       "    <tr style=\"text-align: right;\">\n",
       "      <th></th>\n",
       "      <th>Daily Time Spent on Site</th>\n",
       "      <th>Age</th>\n",
       "      <th>Area Income</th>\n",
       "      <th>Daily Internet Usage</th>\n",
       "      <th>Clicked on Ad</th>\n",
       "    </tr>\n",
       "  </thead>\n",
       "  <tbody>\n",
       "    <tr>\n",
       "      <th>0</th>\n",
       "      <td>0.273474</td>\n",
       "      <td>-0.116122</td>\n",
       "      <td>0.509436</td>\n",
       "      <td>1.817578</td>\n",
       "      <td>0.0</td>\n",
       "    </tr>\n",
       "    <tr>\n",
       "      <th>1</th>\n",
       "      <td>1.015870</td>\n",
       "      <td>-0.576377</td>\n",
       "      <td>1.002029</td>\n",
       "      <td>0.000000</td>\n",
       "      <td>0.0</td>\n",
       "    </tr>\n",
       "    <tr>\n",
       "      <th>2</th>\n",
       "      <td>0.307698</td>\n",
       "      <td>-1.151696</td>\n",
       "      <td>0.356770</td>\n",
       "      <td>1.351152</td>\n",
       "      <td>0.0</td>\n",
       "    </tr>\n",
       "    <tr>\n",
       "      <th>3</th>\n",
       "      <td>0.615713</td>\n",
       "      <td>-0.806505</td>\n",
       "      <td>-0.014448</td>\n",
       "      <td>1.574722</td>\n",
       "      <td>0.0</td>\n",
       "    </tr>\n",
       "    <tr>\n",
       "      <th>4</th>\n",
       "      <td>0.235301</td>\n",
       "      <td>-0.116122</td>\n",
       "      <td>1.408163</td>\n",
       "      <td>1.091154</td>\n",
       "      <td>0.0</td>\n",
       "    </tr>\n",
       "  </tbody>\n",
       "</table>\n",
       "</div>"
      ],
      "text/plain": [
       "   Daily Time Spent on Site       Age  Area Income  Daily Internet Usage  \\\n",
       "0                  0.273474 -0.116122     0.509436              1.817578   \n",
       "1                  1.015870 -0.576377     1.002029              0.000000   \n",
       "2                  0.307698 -1.151696     0.356770              1.351152   \n",
       "3                  0.615713 -0.806505    -0.014448              1.574722   \n",
       "4                  0.235301 -0.116122     1.408163              1.091154   \n",
       "\n",
       "   Clicked on Ad  \n",
       "0            0.0  \n",
       "1            0.0  \n",
       "2            0.0  \n",
       "3            0.0  \n",
       "4            0.0  "
      ]
     },
     "execution_count": 23,
     "metadata": {},
     "output_type": "execute_result"
    }
   ],
   "source": [
    "advertising.head()"
   ]
  },
  {
   "cell_type": "code",
   "execution_count": 24,
   "metadata": {},
   "outputs": [
    {
     "data": {
      "text/html": [
       "<div>\n",
       "<style scoped>\n",
       "    .dataframe tbody tr th:only-of-type {\n",
       "        vertical-align: middle;\n",
       "    }\n",
       "\n",
       "    .dataframe tbody tr th {\n",
       "        vertical-align: top;\n",
       "    }\n",
       "\n",
       "    .dataframe thead th {\n",
       "        text-align: right;\n",
       "    }\n",
       "</style>\n",
       "<table border=\"1\" class=\"dataframe\">\n",
       "  <thead>\n",
       "    <tr style=\"text-align: right;\">\n",
       "      <th></th>\n",
       "      <th>Daily Time Spent on Site</th>\n",
       "      <th>Age</th>\n",
       "      <th>Area Income</th>\n",
       "      <th>Daily Internet Usage</th>\n",
       "      <th>Clicked on Ad</th>\n",
       "    </tr>\n",
       "  </thead>\n",
       "  <tbody>\n",
       "    <tr>\n",
       "      <th>count</th>\n",
       "      <td>1.000000e+03</td>\n",
       "      <td>1.000000e+03</td>\n",
       "      <td>1.000000e+03</td>\n",
       "      <td>1.000000e+03</td>\n",
       "      <td>832.000000</td>\n",
       "    </tr>\n",
       "    <tr>\n",
       "      <th>mean</th>\n",
       "      <td>1.101341e-16</td>\n",
       "      <td>2.184919e-16</td>\n",
       "      <td>-3.854694e-16</td>\n",
       "      <td>-1.740830e-16</td>\n",
       "      <td>0.496394</td>\n",
       "    </tr>\n",
       "    <tr>\n",
       "      <th>std</th>\n",
       "      <td>1.000000e+00</td>\n",
       "      <td>1.000000e+00</td>\n",
       "      <td>1.000000e+00</td>\n",
       "      <td>1.000000e+00</td>\n",
       "      <td>0.500288</td>\n",
       "    </tr>\n",
       "    <tr>\n",
       "      <th>min</th>\n",
       "      <td>-2.118908e+00</td>\n",
       "      <td>-1.957144e+00</td>\n",
       "      <td>-3.056625e+00</td>\n",
       "      <td>-1.785019e+00</td>\n",
       "      <td>0.000000</td>\n",
       "    </tr>\n",
       "    <tr>\n",
       "      <th>25%</th>\n",
       "      <td>-7.891122e-01</td>\n",
       "      <td>-8.065049e-01</td>\n",
       "      <td>-5.939929e-01</td>\n",
       "      <td>-9.032985e-01</td>\n",
       "      <td>0.000000</td>\n",
       "    </tr>\n",
       "    <tr>\n",
       "      <th>50%</th>\n",
       "      <td>5.430951e-02</td>\n",
       "      <td>-1.161217e-01</td>\n",
       "      <td>1.500078e-01</td>\n",
       "      <td>0.000000e+00</td>\n",
       "      <td>0.000000</td>\n",
       "    </tr>\n",
       "    <tr>\n",
       "      <th>75%</th>\n",
       "      <td>8.432692e-01</td>\n",
       "      <td>6.893254e-01</td>\n",
       "      <td>7.805382e-01</td>\n",
       "      <td>8.247266e-01</td>\n",
       "      <td>1.000000</td>\n",
       "    </tr>\n",
       "    <tr>\n",
       "      <th>max</th>\n",
       "      <td>1.753000e+00</td>\n",
       "      <td>2.875539e+00</td>\n",
       "      <td>1.825231e+00</td>\n",
       "      <td>2.147814e+00</td>\n",
       "      <td>1.000000</td>\n",
       "    </tr>\n",
       "  </tbody>\n",
       "</table>\n",
       "</div>"
      ],
      "text/plain": [
       "       Daily Time Spent on Site           Age   Area Income  \\\n",
       "count              1.000000e+03  1.000000e+03  1.000000e+03   \n",
       "mean               1.101341e-16  2.184919e-16 -3.854694e-16   \n",
       "std                1.000000e+00  1.000000e+00  1.000000e+00   \n",
       "min               -2.118908e+00 -1.957144e+00 -3.056625e+00   \n",
       "25%               -7.891122e-01 -8.065049e-01 -5.939929e-01   \n",
       "50%                5.430951e-02 -1.161217e-01  1.500078e-01   \n",
       "75%                8.432692e-01  6.893254e-01  7.805382e-01   \n",
       "max                1.753000e+00  2.875539e+00  1.825231e+00   \n",
       "\n",
       "       Daily Internet Usage  Clicked on Ad  \n",
       "count          1.000000e+03     832.000000  \n",
       "mean          -1.740830e-16       0.496394  \n",
       "std            1.000000e+00       0.500288  \n",
       "min           -1.785019e+00       0.000000  \n",
       "25%           -9.032985e-01       0.000000  \n",
       "50%            0.000000e+00       0.000000  \n",
       "75%            8.247266e-01       1.000000  \n",
       "max            2.147814e+00       1.000000  "
      ]
     },
     "execution_count": 24,
     "metadata": {},
     "output_type": "execute_result"
    }
   ],
   "source": [
    "advertising.describe()"
   ]
  },
  {
   "cell_type": "markdown",
   "metadata": {},
   "source": [
    "### Plotting PMF of Characteristics \n",
    "In this part the probability density function is drawn for each characteristic. In each plot, We drew two curves in each figure. These curves indicate whether the user has clicked on ad or not."
   ]
  },
  {
   "cell_type": "code",
   "execution_count": 25,
   "metadata": {},
   "outputs": [
    {
     "data": {
      "image/png": "[encoded data removed]",
      "text/plain": [
       "<Figure size 432x288 with 1 Axes>"
      ]
     },
     "metadata": {
      "needs_background": "light"
     },
     "output_type": "display_data"
    },
    {
     "name": "stdout",
     "output_type": "stream",
     "text": [
      "Clicked std 0.8361610114854059\n",
      "not clicked std 0.5313689387678912\n"
     ]
    },
    {
     "data": {
      "image/png": "[encoded data removed]",
      "text/plain": [
       "<Figure size 432x288 with 1 Axes>"
      ]
     },
     "metadata": {
      "needs_background": "light"
     },
     "output_type": "display_data"
    },
    {
     "name": "stdout",
     "output_type": "stream",
     "text": [
      "Clicked std 1.019267520705244\n",
      "not clicked std 0.7063146454191541\n"
     ]
    },
    {
     "data": {
      "image/png": "[encoded data removed]",
      "text/plain": [
       "<Figure size 432x288 with 1 Axes>"
      ]
     },
     "metadata": {
      "needs_background": "light"
     },
     "output_type": "display_data"
    },
    {
     "name": "stdout",
     "output_type": "stream",
     "text": [
      "Clicked std 1.0461990555400822\n",
      "not clicked std 0.6704761762169467\n"
     ]
    },
    {
     "data": {
      "image/png": "[encoded data removed]",
      "text/plain": [
       "<Figure size 432x288 with 1 Axes>"
      ]
     },
     "metadata": {
      "needs_background": "light"
     },
     "output_type": "display_data"
    },
    {
     "name": "stdout",
     "output_type": "stream",
     "text": [
      "Clicked std 0.7239588576012945\n",
      "not clicked std 0.592057888773502\n"
     ]
    }
   ],
   "source": [
    "for column in advertising:\n",
    "    if column == TARGET:\n",
    "        continue \n",
    "        \n",
    "    clicked_characteristic = advertising.loc[(advertising[TARGET] == TRUE), column]\n",
    "    clicked_mean = clicked_characteristic.mean()\n",
    "    clicked_std = clicked_characteristic.std()\n",
    "\n",
    "    not_clicked_characteristic = advertising.loc[(advertising[TARGET] == FALSE), column]\n",
    "    not_clicked_mean = not_clicked_characteristic.mean()\n",
    "    not_clicked_std = not_clicked_characteristic.std()\n",
    "\n",
    "    clicked_pdf = norm.pdf(clicked_characteristic, clicked_mean, not_clicked_std)\n",
    "    not_clicked_pdf = norm.pdf(not_clicked_characteristic, not_clicked_mean, not_clicked_std)\n",
    "    \n",
    "    fig = plt.figure()\n",
    "    plt.scatter(clicked_characteristic, clicked_pdf, c = '#e500a9')\n",
    "    plt.scatter(not_clicked_characteristic, not_clicked_pdf, c = '#9a34b5')\n",
    "    fig.suptitle('Probabilty Density Function of ' + column , fontsize = 15)\n",
    "    plt.xlabel(column, fontsize = 12)\n",
    "    plt.ylabel('Probabilty Density', fontsize = 12)\n",
    "    plt.legend(['Clicked', 'Not Clicked'])\n",
    "    plt.show()\n",
    "    print('Clicked std', clicked_std)\n",
    "    print('not clicked std', not_clicked_std)"
   ]
  },
  {
   "cell_type": "markdown",
   "metadata": {},
   "source": [
    "### Selecting the Best Characterstic \n",
    "<ul>\n",
    "    <li>\n",
    "The area between each two curves indicates records for which the target value will be predicted incorrectly (false negative or false positive). The selected characteristic should minimizes this area. \n",
    "    </li>\n",
    "    <li>\n",
    "The smaller the standard deviation is, the more accurate our classification is. \n",
    "    </li>\n",
    "    <li>\n",
    "The further the two curves are, the better our classification is.\n",
    "    </li>\n",
    "</ul>\n",
    "<i>Daily Internet Usage</i> is the best characteristic that satifies the criterias that are mentioned above."
   ]
  },
  {
   "cell_type": "code",
   "execution_count": 26,
   "metadata": {},
   "outputs": [],
   "source": [
    "selected = 'Daily Internet Usage'"
   ]
  },
  {
   "cell_type": "markdown",
   "metadata": {},
   "source": [
    "### Storing Mean & Std of Selected Characterstic "
   ]
  },
  {
   "cell_type": "code",
   "execution_count": 27,
   "metadata": {},
   "outputs": [],
   "source": [
    "clicked_selected = advertising.loc[(advertising[TARGET] == TRUE), selected]\n",
    "clicked_mean = clicked_selected.mean()\n",
    "clicked_std = clicked_selected.std()\n",
    "\n",
    "not_clicked_selected = advertising.loc[(advertising[TARGET] == FALSE), selected]\n",
    "not_clicked_mean = not_clicked_selected.mean()\n",
    "not_clicked_std = not_clicked_selected.std()"
   ]
  },
  {
   "cell_type": "markdown",
   "metadata": {},
   "source": [
    "### Filling Missing Values in Target Column\n",
    "In this part missing values of target column are fill out based on the model that we designed in last parts."
   ]
  },
  {
   "cell_type": "code",
   "execution_count": 28,
   "metadata": {},
   "outputs": [],
   "source": [
    "condition = (advertising[selected] < clicked_mean + clicked_std) & \\\n",
    "    (advertising[selected] > clicked_mean - clicked_std)\n",
    "\n",
    "advertising = advertising[pd.isnull(advertising[TARGET])]\n",
    "\n",
    "advertising[TARGET] = advertising[TARGET].fillna(condition.map({True: CLICKED, False: NOT_CLICKED}))"
   ]
  },
  {
   "cell_type": "markdown",
   "metadata": {},
   "source": [
    "### Storing Prediction Result in a File\n",
    "In this part the prediction result was written in the *prediction_result.csv* file using Pandas *to_csv* method."
   ]
  },
  {
   "cell_type": "code",
   "execution_count": 29,
   "metadata": {},
   "outputs": [],
   "source": [
    "advertising[TARGET].to_csv('prediction_result.csv')"
   ]
  },
  {
   "cell_type": "code",
   "execution_count": 30,
   "metadata": {},
   "outputs": [
    {
     "data": {
      "text/html": [
       "<div>\n",
       "<style scoped>\n",
       "    .dataframe tbody tr th:only-of-type {\n",
       "        vertical-align: middle;\n",
       "    }\n",
       "\n",
       "    .dataframe tbody tr th {\n",
       "        vertical-align: top;\n",
       "    }\n",
       "\n",
       "    .dataframe thead th {\n",
       "        text-align: right;\n",
       "    }\n",
       "</style>\n",
       "<table border=\"1\" class=\"dataframe\">\n",
       "  <thead>\n",
       "    <tr style=\"text-align: right;\">\n",
       "      <th></th>\n",
       "      <th>Daily Time Spent on Site</th>\n",
       "      <th>Age</th>\n",
       "      <th>Area Income</th>\n",
       "      <th>Daily Internet Usage</th>\n",
       "      <th>Clicked on Ad</th>\n",
       "    </tr>\n",
       "  </thead>\n",
       "  <tbody>\n",
       "    <tr>\n",
       "      <th>10</th>\n",
       "      <td>-1.129048</td>\n",
       "      <td>1.494773</td>\n",
       "      <td>-0.698304</td>\n",
       "      <td>-1.374546</td>\n",
       "      <td>1.0</td>\n",
       "    </tr>\n",
       "    <tr>\n",
       "      <th>14</th>\n",
       "      <td>-1.437721</td>\n",
       "      <td>-0.346249</td>\n",
       "      <td>-1.790880</td>\n",
       "      <td>-0.861692</td>\n",
       "      <td>1.0</td>\n",
       "    </tr>\n",
       "    <tr>\n",
       "      <th>15</th>\n",
       "      <td>-0.088509</td>\n",
       "      <td>-1.496888</td>\n",
       "      <td>-0.210052</td>\n",
       "      <td>-0.931215</td>\n",
       "      <td>1.0</td>\n",
       "    </tr>\n",
       "    <tr>\n",
       "      <th>20</th>\n",
       "      <td>0.817766</td>\n",
       "      <td>-0.691441</td>\n",
       "      <td>0.730719</td>\n",
       "      <td>1.064011</td>\n",
       "      <td>0.0</td>\n",
       "    </tr>\n",
       "    <tr>\n",
       "      <th>24</th>\n",
       "      <td>-1.540393</td>\n",
       "      <td>0.574262</td>\n",
       "      <td>1.040827</td>\n",
       "      <td>-0.298362</td>\n",
       "      <td>1.0</td>\n",
       "    </tr>\n",
       "  </tbody>\n",
       "</table>\n",
       "</div>"
      ],
      "text/plain": [
       "    Daily Time Spent on Site       Age  Area Income  Daily Internet Usage  \\\n",
       "10                 -1.129048  1.494773    -0.698304             -1.374546   \n",
       "14                 -1.437721 -0.346249    -1.790880             -0.861692   \n",
       "15                 -0.088509 -1.496888    -0.210052             -0.931215   \n",
       "20                  0.817766 -0.691441     0.730719              1.064011   \n",
       "24                 -1.540393  0.574262     1.040827             -0.298362   \n",
       "\n",
       "    Clicked on Ad  \n",
       "10            1.0  \n",
       "14            1.0  \n",
       "15            1.0  \n",
       "20            0.0  \n",
       "24            1.0  "
      ]
     },
     "execution_count": 30,
     "metadata": {},
     "output_type": "execute_result"
    }
   ],
   "source": [
    "advertising.head()"
   ]
  },
  {
   "cell_type": "markdown",
   "metadata": {},
   "source": [
    "### Conclusion\n",
    "In this computer assignment we learned that Python\n",
    "libraries are very powerful tools in Artificial Intelligence. Also\n",
    "we were introduced one of the applications of Artificial\n",
    "Intelligence in real life."
   ]
  }
 ],
 "metadata": {
  "kernelspec": {
   "display_name": "Python 3",
   "language": "python",
   "name": "python3"
  },
  "language_info": {
   "codemirror_mode": {
    "name": "ipython",
    "version": 3
   },
   "file_extension": ".py",
   "mimetype": "text/x-python",
   "name": "python",
   "nbconvert_exporter": "python",
   "pygments_lexer": "ipython3",
   "version": "3.7.3"
  }
 },
 "nbformat": 4,
 "nbformat_minor": 2
}
